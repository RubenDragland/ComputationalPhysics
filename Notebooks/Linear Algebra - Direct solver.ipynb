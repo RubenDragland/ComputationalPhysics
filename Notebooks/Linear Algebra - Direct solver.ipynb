{
 "cells": [
  {
   "cell_type": "code",
   "execution_count": 129,
   "metadata": {
    "collapsed": true
   },
   "outputs": [],
   "source": [
    "# Import numpy and matplotlib, and use jupyter magic to\n",
    "# get plots directly in notebook\n",
    "import numpy as np\n",
    "import matplotlib\n",
    "%matplotlib inline\n",
    "from matplotlib import pyplot as plt\n",
    "# Get nicer looking plots than default\n",
    "plt.style.use('bmh')\n",
    "# Timer to measure the performance of methods\n",
    "from time import time"
   ]
  },
  {
   "cell_type": "code",
   "execution_count": 130,
   "metadata": {
    "collapsed": false
   },
   "outputs": [],
   "source": [
    "# Generate large equation system with known solution\n",
    "N = 5000\n",
    "x = np.random.random(N)\n",
    "A = np.random.random((N, N))\n",
    "b = np.dot(A, x)"
   ]
  },
  {
   "cell_type": "code",
   "execution_count": 131,
   "metadata": {
    "collapsed": false
   },
   "outputs": [
    {
     "name": "stdout",
     "output_type": "stream",
     "text": [
      "Solving took 2.8668129444122314 seconds\n"
     ]
    }
   ],
   "source": [
    "# numpy.linalg.solve is a wrapper for the\n",
    "# lapack routines sgesv, dgesv, cgesv and zgesv\n",
    "# scipy.linalg contain others wrapped routines\n",
    "# and scipy.linalg.lapack contains wrappers\n",
    "# of individual lapack routines.\n",
    "tic = time()\n",
    "y = np.linalg.solve(A, b)\n",
    "toc = time()\n",
    "print('Solving took %s seconds' % (toc - tic))"
   ]
  },
  {
   "cell_type": "code",
   "execution_count": 132,
   "metadata": {
    "collapsed": false
   },
   "outputs": [
    {
     "data": {
      "image/png": "[encoded data removed]",
      "text/plain": [
       "<matplotlib.figure.Figure at 0x14a25da58>"
      ]
     },
     "metadata": {},
     "output_type": "display_data"
    }
   ],
   "source": [
    "# Solve for a few different sizes and plot time\n",
    "Ns = [100, 200, 500, 1000, 2000, 5000]\n",
    "Ts = []\n",
    "for N in Ns:\n",
    "    x = np.random.random(N)\n",
    "    A = np.random.random((N, N))\n",
    "    b = np.dot(A, x)\n",
    "    tic = time()\n",
    "    y = np.linalg.solve(A, b)\n",
    "    toc = time()\n",
    "    Ts.append(toc - tic)\n",
    "plt.plot(Ns, Ts)\n",
    "# Add straight line (in log-log) to compare slope\n",
    "plt.plot(Ns, 1e-11*np.array(Ns)**3, lw = 0.3)\n",
    "plt.xscale('log')\n",
    "plt.yscale('log')"
   ]
  },
  {
   "cell_type": "markdown",
   "metadata": {},
   "source": [
    "## Ill-conditioned example"
   ]
  },
  {
   "cell_type": "code",
   "execution_count": 133,
   "metadata": {
    "collapsed": false
   },
   "outputs": [
    {
     "name": "stdout",
     "output_type": "stream",
     "text": [
      "[[ 2.]\n",
      " [ 1.]]\n"
     ]
    }
   ],
   "source": [
    "# This is an example of an equation system\n",
    "# which is ill-conditioned, meaning that\n",
    "# a small change in the equations will lead\n",
    "# to a large change in x\n",
    "\n",
    "A = np.array([\n",
    "        [1, 2    ],\n",
    "        [2, 3.999]\n",
    "    ])\n",
    "\n",
    "b = np.array([\n",
    "        [4.000],\n",
    "        [7.999]\n",
    "    ])\n",
    "\n",
    "print(np.linalg.solve(A, b))"
   ]
  },
  {
   "cell_type": "code",
   "execution_count": 134,
   "metadata": {
    "collapsed": false
   },
   "outputs": [
    {
     "data": {
      "text/plain": [
       "array([[-3.999],\n",
       "       [ 4.   ]])"
      ]
     },
     "execution_count": 134,
     "metadata": {},
     "output_type": "execute_result"
    }
   ],
   "source": [
    "# Make a small change in b, and see\n",
    "# what happens to x\n",
    "\n",
    "A = np.array([\n",
    "        [1, 2    ],\n",
    "        [2, 3.999]\n",
    "    ])\n",
    "\n",
    "b = np.array([\n",
    "        [4.001],\n",
    "        [7.998]\n",
    "    ])\n",
    "\n",
    "np.linalg.solve(A, b)"
   ]
  },
  {
   "cell_type": "code",
   "execution_count": 135,
   "metadata": {
    "collapsed": false
   },
   "outputs": [
    {
     "data": {
      "text/plain": [
       "[<matplotlib.lines.Line2D at 0x14a43ef60>]"
      ]
     },
     "execution_count": 135,
     "metadata": {},
     "output_type": "execute_result"
    },
    {
     "data": {
      "image/png": "[encoded data removed]",
      "text/plain": [
       "<matplotlib.figure.Figure at 0x14a43e860>"
      ]
     },
     "metadata": {},
     "output_type": "display_data"
    }
   ],
   "source": [
    "# Plot the two lines corresponding to the two equations\n",
    "# Geometric interpretation is that the two equations define\n",
    "# almost parallel lines. A tiny change in on or both lines\n",
    "# can move the intersection point a large distance.\n",
    "\n",
    "x0 = np.linspace(-5, 5, 2)\n",
    "plt.plot(x0, -x0 * A[0,0] / A[0,1] + b[0] / A[0,1], lw = 0.3)\n",
    "plt.plot(x0, -x0 * A[1,0] / A[1,1] + b[1] / A[1,1], lw = 0.3)"
   ]
  },
  {
   "cell_type": "code",
   "execution_count": 136,
   "metadata": {
    "collapsed": false
   },
   "outputs": [
    {
     "data": {
      "text/plain": [
       "24992.00096006945"
      ]
     },
     "execution_count": 136,
     "metadata": {},
     "output_type": "execute_result"
    }
   ],
   "source": [
    "# Condition number gives an indication\n",
    "np.linalg.cond(A)"
   ]
  },
  {
   "cell_type": "markdown",
   "metadata": {},
   "source": [
    "## Well-conditioned example"
   ]
  },
  {
   "cell_type": "code",
   "execution_count": 137,
   "metadata": {
    "collapsed": false
   },
   "outputs": [
    {
     "data": {
      "text/plain": [
       "array([[ 2.],\n",
       "       [ 1.]])"
      ]
     },
     "execution_count": 137,
     "metadata": {},
     "output_type": "execute_result"
    }
   ],
   "source": [
    "# Slightly different equation system\n",
    "\n",
    "A = np.array([\n",
    "        [1, 2],\n",
    "        [2, 3]\n",
    "    ])\n",
    "\n",
    "b = np.array([\n",
    "        [4.000],\n",
    "        [7.000]\n",
    "    ])\n",
    "\n",
    "np.linalg.solve(A, b)"
   ]
  },
  {
   "cell_type": "code",
   "execution_count": 138,
   "metadata": {
    "collapsed": false
   },
   "outputs": [
    {
     "data": {
      "text/plain": [
       "array([[ 1.995],\n",
       "       [ 1.003]])"
      ]
     },
     "execution_count": 138,
     "metadata": {},
     "output_type": "execute_result"
    }
   ],
   "source": [
    "# This time, a small change in b leads to\n",
    "# a small change in x\n",
    "\n",
    "A = np.array([\n",
    "        [1, 2],\n",
    "        [2, 3]\n",
    "    ])\n",
    "\n",
    "b = np.array([\n",
    "        [4.001],\n",
    "        [6.999]\n",
    "    ])\n",
    "\n",
    "np.linalg.solve(A, b)"
   ]
  },
  {
   "cell_type": "code",
   "execution_count": 139,
   "metadata": {
    "collapsed": false
   },
   "outputs": [
    {
     "data": {
      "text/plain": [
       "[<matplotlib.lines.Line2D at 0x13e4e3a20>]"
      ]
     },
     "execution_count": 139,
     "metadata": {},
     "output_type": "execute_result"
    },
    {
     "data": {
      "image/png": "[encoded data removed]",
      "text/plain": [
       "<matplotlib.figure.Figure at 0x13e4e3940>"
      ]
     },
     "metadata": {},
     "output_type": "display_data"
    }
   ],
   "source": [
    "# Plot the two lines corresponding to the two equations\n",
    "# This time, the lines are further away from being parallel\n",
    "x0 = np.linspace(-5, 5, 2)\n",
    "plt.plot(x0, -x0 * A[0,0] / A[0,1] + b[0] / A[0,1], lw = 0.3)\n",
    "plt.plot(x0, -x0 * A[1,0] / A[1,1] + b[1] / A[1,1], lw = 0.3)"
   ]
  },
  {
   "cell_type": "code",
   "execution_count": 140,
   "metadata": {
    "collapsed": false
   },
   "outputs": [
    {
     "data": {
      "text/plain": [
       "17.944271909999173"
      ]
     },
     "execution_count": 140,
     "metadata": {},
     "output_type": "execute_result"
    }
   ],
   "source": [
    "np.linalg.cond(A)"
   ]
  },
  {
   "cell_type": "markdown",
   "metadata": {},
   "source": [
    "## LU decomposition"
   ]
  },
  {
   "cell_type": "code",
   "execution_count": 141,
   "metadata": {
    "collapsed": false
   },
   "outputs": [
    {
     "name": "stdout",
     "output_type": "stream",
     "text": [
      "Solving one system took 2.6937031745910645 seconds\n",
      "Solving two systems took 2.675990104675293 seconds\n"
     ]
    }
   ],
   "source": [
    "# Note that np.linalg.solve is just a wrapper\n",
    "# for lapack routines written in fortran, which\n",
    "# solve equations using LU-decomposition.\n",
    "# As a concequence, solving for multiple\n",
    "# right-hand sides takes essentially no extra time.\n",
    "N = 5000\n",
    "x = np.random.random(N)\n",
    "y = np.random.random(N)\n",
    "A = np.random.random((N, N))\n",
    "b = np.dot(A, x)\n",
    "c = np.dot(A, y)\n",
    "\n",
    "tic = time()\n",
    "z = np.linalg.solve(A, b)\n",
    "toc = time()\n",
    "print('Solving one system took %s seconds' % (toc - tic))\n",
    "\n",
    "tic = time()\n",
    "z = np.linalg.solve(A, np.array([b, c]).T)\n",
    "toc = time()\n",
    "print('Solving two systems took %s seconds' % (toc - tic))"
   ]
  },
  {
   "cell_type": "code",
   "execution_count": null,
   "metadata": {
    "collapsed": true
   },
   "outputs": [],
   "source": []
  }
 ],
 "metadata": {
  "kernelspec": {
   "display_name": "Python 3",
   "language": "python",
   "name": "python3"
  },
  "language_info": {
   "codemirror_mode": {
    "name": "ipython",
    "version": 3
   },
   "file_extension": ".py",
   "mimetype": "text/x-python",
   "name": "python",
   "nbconvert_exporter": "python",
   "pygments_lexer": "ipython3",
   "version": "3.4.2"
  }
 },
 "nbformat": 4,
 "nbformat_minor": 0
}
