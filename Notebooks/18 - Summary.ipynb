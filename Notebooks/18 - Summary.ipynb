{
 "cells": [
  {
   "cell_type": "code",
   "execution_count": 1,
   "metadata": {},
   "outputs": [],
   "source": [
    "# Import numpy and matplotlib, and use jupyter magic to\n",
    "# get plots directly in notebook\n",
    "import numpy as np\n",
    "%matplotlib inline\n",
    "from matplotlib import pyplot as plt\n",
    "from tqdm.notebook import trange"
   ]
  },
  {
   "cell_type": "markdown",
   "metadata": {},
   "source": [
    "# Agenda\n",
    "\n",
    "* Reference group meeting\n",
    "* Summary of the course and the exercises\n",
    "* Questions before the exam"
   ]
  },
  {
   "cell_type": "markdown",
   "metadata": {},
   "source": [
    "# Summary of the course: What have we learnt?\n",
    "\n",
    "## Philosophy of this course: The toolbox\n",
    "\n",
    "The idea of this course is to give you a toolbox of tools that are useful in computational physics/science.\n",
    "* You will not be an expert with all the tools,\n",
    "* but you will have some ideas of the tools that exist\n",
    "* and you will know where to start looking when you face a new problem.\n",
    "\n",
    "Through the exercises, you will also:\n",
    "* Try out different parts of the toolbox\n",
    "* Gain experience with solving larger problems\n",
    "* Think about how to test your code when you don't know the correct answer\n",
    "\n",
    "\n",
    "### Suggestions for the exam: \n",
    "\n",
    "* Do not try to memorise all the methods we have looked at. You will have time to look up the details as you need them.\n",
    "* Try to become as familiar as possible with your chosen language. If you have to look up syntax all the time, it may be difficult to complete the exam.\n",
    "* Remember that you will get credit for what you have done. Start from the beginning, and try to complete the sub-problems as you go along. You can still get a good grade if you don't manage to complete the last sub-problem."
   ]
  },
  {
   "cell_type": "markdown",
   "metadata": {},
   "source": [
    "# Summary of Exercise 1\n",
    "\n",
    "(Exercise 1 is almost exactly identical to the exam in 2016.)\n",
    "\n",
    "Some key points:\n",
    "* More of an algorithmic problem, than a specific numerical method.\n",
    "* However, event-driven simulations are seen in many application.\n",
    "* The code that you have written can be applied to a few different problems, with minor modification.\n",
    "* The code can be expanded to take periodic boundary conditions into account.\n",
    "* It is possible to split up the domain into smaller parts, and parallelise the code.\n",
    "* Many of you have said that Exercise 1 was a lot of work.\n",
    "* Some of you had problems with getting the simulations to run fast.\n",
    "\n",
    "## Key to getting acceptable simulation times (in Python)\n",
    "\n",
    "* Profiling (of my implementation, at least) indicates that the operation that takes the most time is to calculate the time to future particle-particle collisions.\n",
    "* By using numpy array operations, we can avoid looping over all particles\n",
    "* With the implementation below, I am able to run the simulations needed for the exercise within a reasonable time (certainly less than half an hour for everything)"
   ]
  },
  {
   "cell_type": "code",
   "execution_count": 2,
   "metadata": {},
   "outputs": [],
   "source": [
    "def particle_particle_faster(i, X, V, R, N, time):\n",
    "    # Calculate the time for particle i to collide with all other particles\n",
    "    dx   = X - X[:,i][:,None]\n",
    "    dv   = V - V[:,i][:,None]\n",
    "    dvdx = np.sum(dv*dx, axis = 0)\n",
    "    dv2  = np.sum(dv**2, axis = 0)\n",
    "    dx2  = np.sum(dx**2, axis = 0)\n",
    "    d    = dvdx**2 - dv2*(dx2 - (R+R[i])**2)\n",
    "    # Only a small fraction of the elements will actually satisfy\n",
    "    # d >= 0 and dvdx < 0, so calculate only for those\n",
    "    inds = np.arange(len(d))[(d >= 0) & (dvdx < 0)]\n",
    "    times = time - (dvdx[inds] + np.sqrt(d[inds])) / dv2[inds]\n",
    "    colls = [Collision(times[n], i, j, N[i], N[j]) for n, j in enumerate(inds)]\n",
    "    return colls"
   ]
  },
  {
   "cell_type": "code",
   "execution_count": 3,
   "metadata": {},
   "outputs": [
    {
     "name": "stdout",
     "output_type": "stream",
     "text": [
      "\n"
     ]
    },
    {
     "data": {
      "application/vnd.jupyter.widget-view+json": {
       "model_id": "3ecaffeec29c4184b8ef381d226fc7a0",
       "version_major": 2,
       "version_minor": 0
      },
      "text/plain": [
       "HBox(children=(HTML(value=''), FloatProgress(value=0.0, max=40000.0), HTML(value='')))"
      ]
     },
     "metadata": {},
     "output_type": "display_data"
    },
    {
     "name": "stdout",
     "output_type": "stream",
     "text": [
      " == Output ==            \n",
      "Time:                     0.07857660228564795\n",
      "Particle collisions:      40000\n",
      "Wall collisions:          9010\n",
      "Total collisions:         49010\n",
      "Tc collisions:            0\n"
     ]
    }
   ],
   "source": [
    "import sys\n",
    "sys.path.append('.')\n",
    "\n",
    "# I don't want to give away the entire solution just yet,\n",
    "# so this is just imported here as an illustration of the runtime\n",
    "from exercise1 import run_problem_1\n",
    "\n",
    "Nspheres = 2000\n",
    "NPC_max = 20*Nspheres\n",
    "radius = 0.001\n",
    "\n",
    "T, V = run_problem_1(Nspheres, NPC_max, radius)"
   ]
  },
  {
   "cell_type": "code",
   "execution_count": 4,
   "metadata": {},
   "outputs": [
    {
     "data": {
      "text/plain": [
       "[<matplotlib.lines.Line2D at 0x7fafcb6807f0>]"
      ]
     },
     "execution_count": 4,
     "metadata": {},
     "output_type": "execute_result"
    },
    {
     "data": {
      "image/png": "[encoded data removed]",
      "text/plain": [
       "<Figure size 432x288 with 1 Axes>"
      ]
     },
     "metadata": {
      "needs_background": "light"
     },
     "output_type": "display_data"
    }
   ],
   "source": [
    "plt.plot(T, np.mean(np.sqrt(np.sum(V**2, axis = 1)), axis = 1))"
   ]
  },
  {
   "cell_type": "markdown",
   "metadata": {},
   "source": [
    "# Summary of exercise 2:\n",
    "\n",
    "(to be given by Verena)\n",
    "\n",
    "* \n"
   ]
  },
  {
   "cell_type": "markdown",
   "metadata": {},
   "source": [
    "# Summary of Exercise 3:\n",
    "\n",
    "Some key points:\n",
    "* Parts of the code could be re-used from the notebook on PDEs\n",
    "* Some focus on testing and thinking about numerical accuracy\n",
    "* Most of the work (?) related to testing and convergence plots\n",
    "* Demonstrate that simple models can sometimes give useful information\n",
    " * You cannot get accurate answers from a 1D model\n",
    " * but you can get order-of-magnitude estimates\n",
    " * and try to look at what effects are the ones that have most influence on the outcome\n",
    "* Not so many questions yet, but they are starting to appear (on piazza)\n",
    "* Many questions related to convergence plots\n",
    " * Convergence analysis can be a sensitive test"
   ]
  },
  {
   "cell_type": "markdown",
   "metadata": {},
   "source": [
    "# Questions and answers\n",
    "\n",
    "### Can we use parts of code from the notebooks/internet directly or is that plagiarism?\n",
    "\n",
    "You can use small pieces of code (like an ODE solver, for example) from the internet or from the notebooks. You will of course still have to do the work of adapting it to your overall code. If you do use pieces of code like this, make sure to say that you have done so, and where the code came from. And it should be from a public source that I can find, not something you got on email from a friend.\n",
    "\n",
    "This is similar to what you would do if you quoted a piece of text in your report: You would mark it clearly as a quote, and you would state the source. It's only plagiarism if you try to pass it off as your own work.\n",
    "\n",
    "\n",
    "### Should we expect to have to lapack/blas libraries? (might require some prep work for non-python/numpy environments)\n",
    "\n",
    "No, I would say high-performance linear algebra is not going to be an essential or time-consuming part of the exam.\n",
    "\n",
    "\n",
    "### In case of collaboration with others, should we state that we have collaborated with someone? could you please give an example of what is ok in collaboration and what is regarded as plagiarism?\n",
    "\n",
    "The exam is supposed to be anonymous, so you should not write your name, or the name of any other students, on the report.\n",
    "\n",
    "It is perfectly ok to discuss algorithms and implementation details, and to see how other people have chosen to implement something, but it is not ok to copy code from other students. Write your own implementation.\n",
    "\n",
    "\n",
    "### In terms of being anonymous, is it okay to upload the code for the exercises and the exam to GitHub in addition to appending them to the submission?\n",
    "\n",
    "I suggest waiting until after the exam to make your code publicly available. Should you wish to refer to your own github page, then I might be able to identify you, but that is not a problem for me.\n",
    "\n",
    "\n",
    "### Regarding exercise 2: Should videos be handed in?\n",
    "\n",
    "The videos were mostly intended as a pedagogical tool for you, and as an exercise in 3D animation, which can be very useful for presentations and so on. It is not essential that you hand in the animations.\n",
    "\n",
    "Should you wish to hand in animations, then you may put them in a zip-file or similar along with your code attachments, and you can refer to them in the report, for example by saying something \"see the file animation.gif in the attached zip-file\".\n",
    "\n",
    "\n",
    "### About referencing, how to refer to the exam problem, the notebooks, or other sources?\n",
    "\n",
    "The most important point about referencing is that the reader can easily understand what document you refer to. For refering to the exam problem or project description, it is enough to say something like \"see Eq. (2) in the problem set\", and it will be obvious in the context what you mean. For referring to the notebooks or lecture notes (slides), you can put them in the list of references, and refer by name, or by URL, or something like that. As long as I can easily understand which document it is, it is fine. I am not terribly fussed about correct formatting of references. For referring to any other documents, just use bibtex or word or whatever in the way you normally use it.\n",
    "\n",
    "\n",
    "### So we can discuss the exam/solutions on piazza during the exam?\n",
    "\n",
    "Yes, you can.\n",
    "\n",
    "\n",
    "### How do we contact the instructors during the exam?\n",
    "\n",
    "In addition to discussing with other students, you can also ask the instructors for help during the exam.\n",
    "\n",
    "I suggest starting by asking questions on piazza. Please do not ask private questions in piazza, if you want to ask privately, it is better to send an email. The strength of piazza lies in the public discussion that others can benefit from.\n",
    "\n",
    "You can also send email if you prefer. You can email all three of us (Tor, Verena and Guillermo), our email addresses are listed on Blackboard, and we can set up zoom calls if needed."
   ]
  },
  {
   "cell_type": "markdown",
   "metadata": {},
   "source": [
    "# Final remarks\n",
    "\n",
    "The exam will have five or six sub-problems. They start easy, and become more difficult as you go on. Try to wrap up the early sub-problems as you go along, and make sure to describe what you have done. Make it easy for the person marking the exam to see which parts you have completed.\n",
    "\n",
    "If you are unable to complete the last one or two sub-problems, you can still get a good result, but that requires that I can understand what you have done. If you have a code that nearly works, but no report, then it's hard for me to understand what you have done."
   ]
  },
  {
   "cell_type": "code",
   "execution_count": null,
   "metadata": {},
   "outputs": [],
   "source": []
  }
 ],
 "metadata": {
  "kernelspec": {
   "display_name": "Python 3",
   "language": "python",
   "name": "python3"
  },
  "language_info": {
   "codemirror_mode": {
    "name": "ipython",
    "version": 3
   },
   "file_extension": ".py",
   "mimetype": "text/x-python",
   "name": "python",
   "nbconvert_exporter": "python",
   "pygments_lexer": "ipython3",
   "version": "3.8.5"
  }
 },
 "nbformat": 4,
 "nbformat_minor": 4
}
