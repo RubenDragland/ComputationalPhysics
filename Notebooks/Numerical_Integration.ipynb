{
 "cells": [
  {
   "cell_type": "code",
   "execution_count": 1,
   "metadata": {
    "collapsed": true
   },
   "outputs": [],
   "source": [
    "# Import numpy and matplotlib, and use jupyter magic to\n",
    "# get plots directly in notebook\n",
    "import numpy as np\n",
    "import matplotlib\n",
    "%matplotlib inline\n",
    "from matplotlib import pyplot as plt\n",
    "# Get nicer looking plots than default\n",
    "plt.style.use('bmh')"
   ]
  },
  {
   "cell_type": "markdown",
   "metadata": {},
   "source": [
    "## Lagrange interpolating polynomials"
   ]
  },
  {
   "cell_type": "code",
   "execution_count": 3,
   "metadata": {
    "collapsed": false
   },
   "outputs": [
    {
     "data": {
      "text/plain": [
       "[<matplotlib.lines.Line2D at 0x109e82e10>]"
      ]
     },
     "execution_count": 3,
     "metadata": {},
     "output_type": "execute_result"
    },
    {
     "data": {
      "image/png": "[encoded data removed]",
      "text/plain": [
       "<matplotlib.figure.Figure at 0x10d6c2c18>"
      ]
     },
     "metadata": {},
     "output_type": "display_data"
    }
   ],
   "source": [
    "# Given N points (x_i, y_i), it is always possible to find a\n",
    "# polynomial of degree N-1 which passes through all points \n",
    "# (provided x_i is different for all points). See for example\n",
    "# https://en.wikipedia.org/wiki/Lagrange_polynomial\n",
    "from scipy.interpolate import lagrange\n",
    "\n",
    "# Number of points\n",
    "N = 14\n",
    "# N evenly spaced x-values\n",
    "x = np.linspace(0, 1, N)\n",
    "# x**2 + some Gaussian random noise (mu = 0, sigma = 0.01)\n",
    "y = x**2 + np.random.normal(loc = 0, scale = 0.01, size = N)\n",
    "\n",
    "# Find the polynomial that passes through all points\n",
    "f = lagrange(x, y)\n",
    "\n",
    "# Plot points and a smooth curve of the polynomial. The point\n",
    "# is to illustrate that it is not necessarily a good idea\n",
    "# to try to interpolate a large number of points.\n",
    "plt.scatter(x, y)\n",
    "plt.plot(np.linspace(0, 1, 1000), f(np.linspace(0, 1, 1000)))"
   ]
  },
  {
   "cell_type": "markdown",
   "metadata": {},
   "source": [
    "## Midpoint rule"
   ]
  },
  {
   "cell_type": "code",
   "execution_count": 5,
   "metadata": {
    "collapsed": false
   },
   "outputs": [],
   "source": [
    "# Note that in python, it's perfectly ok to send a function\n",
    "# as an argument to a function, no special declaration needed.\n",
    "# In general, (almost) anything goes in python. This can be a bit\n",
    "# dangerous, as it makes it easy to make mistakes.\n",
    "# With great power comes great responsibility, etc.\n",
    "\n",
    "def midpoint_rule(a, b, n, func):\n",
    "    # The width of each rectangle\n",
    "    step = (b - a) / n\n",
    "    # Array with the midpoint of each rectangle\n",
    "    X = np.linspace(a + step/2, b - step/2, n)\n",
    "    # When func(x) is applied to an array, it returns an array \n",
    "    # of equal size, holding the result of applying the function\n",
    "    # to each element of the original array. We take the sum \n",
    "    # of the resulting array, and multiply by step\n",
    "    return sum(func(X))*step"
   ]
  },
  {
   "cell_type": "code",
   "execution_count": 6,
   "metadata": {
    "collapsed": false
   },
   "outputs": [
    {
     "name": "stdout",
     "output_type": "stream",
     "text": [
      "-2449.99875\n"
     ]
    }
   ],
   "source": [
    "def f(x):\n",
    "    return x - x**3\n",
    "\n",
    "print(midpoint_rule(0, 10, 1000, f))"
   ]
  },
  {
   "cell_type": "code",
   "execution_count": 12,
   "metadata": {
    "collapsed": false
   },
   "outputs": [
    {
     "data": {
      "image/png": "[encoded data removed]",
      "text/plain": [
       "<matplotlib.figure.Figure at 0x10dc218d0>"
      ]
     },
     "metadata": {},
     "output_type": "display_data"
    }
   ],
   "source": [
    "# Define a function to use as an example\n",
    "def f(x):\n",
    "    return x - x**3\n",
    "\n",
    "# Plot the function to be integrated, using 1000 points\n",
    "# to get a smooth curve\n",
    "a = 0\n",
    "b = 1\n",
    "X = np.linspace(a, b, 1000)\n",
    "plt.plot(X, f(X))\n",
    "\n",
    "# Draw axis through origin, for visualisation purposes\n",
    "plt.axhline(y=0, color='k', linewidth=1)\n",
    "plt.axvline(x=0, color='k', linewidth=1)\n",
    "\n",
    "# Draw the rectangles used in the Riemann sum\n",
    "# There are n rectangles\n",
    "n  = 10\n",
    "# Each has width step\n",
    "step = (b - a)/n\n",
    "# Create a vector of the midpoints of each rectangle\n",
    "X  = np.linspace(a + step/2, b - step/2, n)\n",
    "# Draw the midpoints as circles\n",
    "plt.scatter(X, f(X))\n",
    "# For each rectangle, draw the borders using a line plot\n",
    "for x in X:\n",
    "    plt.plot([x-step/2, x-step/2, x+step/2, x+step/2], [0,f(x), f(x), 0], color = \"g\")"
   ]
  },
  {
   "cell_type": "markdown",
   "metadata": {},
   "source": [
    "## Trapezoidal rule"
   ]
  },
  {
   "cell_type": "code",
   "execution_count": 13,
   "metadata": {
    "collapsed": false
   },
   "outputs": [],
   "source": [
    "def trapezoidal_rule(a, b, n, func):\n",
    "    step = (b - a) / n\n",
    "    X = np.linspace(a + step, b - step, n-1)\n",
    "    return (func(a)/2 + sum(func(X)) + func(b)/2)*step"
   ]
  },
  {
   "cell_type": "code",
   "execution_count": 14,
   "metadata": {
    "collapsed": false
   },
   "outputs": [
    {
     "data": {
      "text/plain": [
       "-2475.0"
      ]
     },
     "execution_count": 14,
     "metadata": {},
     "output_type": "execute_result"
    }
   ],
   "source": [
    "def f(x):\n",
    "    return x - x**3\n",
    "\n",
    "trapezoidal_rule(0, 10, 10, f)"
   ]
  },
  {
   "cell_type": "code",
   "execution_count": 16,
   "metadata": {
    "collapsed": false
   },
   "outputs": [
    {
     "data": {
      "image/png": "[encoded data removed]",
      "text/plain": [
       "<matplotlib.figure.Figure at 0x10dc215f8>"
      ]
     },
     "metadata": {},
     "output_type": "display_data"
    }
   ],
   "source": [
    "# Define a function to use as an example\n",
    "def f(x):\n",
    "    return x - x**3\n",
    "\n",
    "# Plot the function to be integrated, using 1000 points\n",
    "# to get a smooth curve\n",
    "a = 0\n",
    "b = 1\n",
    "X = np.linspace(a, b, 1000)\n",
    "plt.plot(X, f(X))\n",
    "\n",
    "# Draw axis through origin, for visualisation purposes\n",
    "plt.axhline(y=0, color='k', linewidth=1)\n",
    "plt.axvline(x=0, color='k', linewidth=1)\n",
    "\n",
    "# Draw the rectangles used in the Riemann sum\n",
    "# There are n rectangles\n",
    "n  = 10\n",
    "# Each has width step\n",
    "step = (b - a)/n\n",
    "# Create a vector of the abcissas, using \n",
    "# n+1 points for a closed rule\n",
    "X  = np.linspace(a, b, n+1)\n",
    "# Draw the abcissas as circles\n",
    "plt.scatter(X, f(X))\n",
    "# For each trapezoid, draw the borders using a line plot\n",
    "# stopping at the next-to-last\n",
    "for x in X[:-1]:\n",
    "    plt.plot([x, x, x+step, x+step], [0, f(x), f(x+step), 0], color = \"g\")"
   ]
  },
  {
   "cell_type": "markdown",
   "metadata": {},
   "source": [
    "## Simpson's rule"
   ]
  },
  {
   "cell_type": "code",
   "execution_count": 17,
   "metadata": {
    "collapsed": false
   },
   "outputs": [],
   "source": [
    "def simpsons_rule(a, b, n, func):\n",
    "    # N must be even for Simpson's rule\n",
    "    assert n%2 == 0\n",
    "    step = (b - a) / n\n",
    "    # All abcissas except endpoints, using\n",
    "    # n+1 points for closed rule\n",
    "    X = np.linspace(a + step, b - step, n-1)\n",
    "    return (func(a) + 4*np.sum(func(X[0::2])) + 2*np.sum(func(X[1::2])) + func(b))*step/3"
   ]
  },
  {
   "cell_type": "code",
   "execution_count": 18,
   "metadata": {
    "collapsed": false
   },
   "outputs": [
    {
     "data": {
      "text/plain": [
       "-2450.0"
      ]
     },
     "execution_count": 18,
     "metadata": {},
     "output_type": "execute_result"
    }
   ],
   "source": [
    "def f(x):\n",
    "    return x - x**3\n",
    "\n",
    "simpsons_rule(0, 10, 2, f)"
   ]
  },
  {
   "cell_type": "code",
   "execution_count": null,
   "metadata": {
    "collapsed": true
   },
   "outputs": [],
   "source": []
  }
 ],
 "metadata": {
  "kernelspec": {
   "display_name": "Python 3",
   "language": "python",
   "name": "python3"
  },
  "language_info": {
   "codemirror_mode": {
    "name": "ipython",
    "version": 3
   },
   "file_extension": ".py",
   "mimetype": "text/x-python",
   "name": "python",
   "nbconvert_exporter": "python",
   "pygments_lexer": "ipython3",
   "version": "3.5.1"
  }
 },
 "nbformat": 4,
 "nbformat_minor": 0
}
