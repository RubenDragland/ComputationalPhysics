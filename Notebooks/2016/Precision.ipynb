{
 "cells": [
  {
   "cell_type": "code",
   "execution_count": 2,
   "metadata": {
    "collapsed": false
   },
   "outputs": [],
   "source": [
    "# Import numpy and matplotlib, and use jupyter magic to\n",
    "# get plots directly in notebook\n",
    "import numpy as np\n",
    "%matplotlib inline\n",
    "from matplotlib import pyplot as plt\n",
    "\n",
    "# These two lines set nicer looking defaults for matplotlib\n",
    "import seaborn as sns\n",
    "sns.set(style='ticks', palette='Set1')"
   ]
  },
  {
   "cell_type": "markdown",
   "metadata": {},
   "source": [
    "## Harmonic numbers\n",
    "\n",
    "Harmonic numbers are given by\n",
    "\n",
    "$$ H_n = \\sum_{k=1}^n \\frac{1}{k} $$"
   ]
  },
  {
   "cell_type": "code",
   "execution_count": 3,
   "metadata": {
    "collapsed": true
   },
   "outputs": [],
   "source": [
    "# Calculate the harmonic number Hn, by doing the\n",
    "# sum from the largest nmuber to the smallest\n",
    "def forward(n):\n",
    "    Hn = np.float32(0)\n",
    "    for i in range(1, n+1):\n",
    "        Hn += np.float32(1/i)\n",
    "    return Hn\n",
    "\n",
    "# Calculate the harmonic number Hn, by doing the\n",
    "# sum from the smallest nmuber to the largest\n",
    "def backward(n):\n",
    "    Hn = np.float32(0)\n",
    "    for i in range(n, 0, -1):\n",
    "        Hn += np.float32(1/i)\n",
    "    return Hn"
   ]
  },
  {
   "cell_type": "code",
   "execution_count": 4,
   "metadata": {
    "collapsed": false
   },
   "outputs": [
    {
     "name": "stdout",
     "output_type": "stream",
     "text": [
      "Forward sum:  13.690692\n",
      "Backward sum: 13.699607\n"
     ]
    }
   ],
   "source": [
    "# Calculate Hn in both ways, and print answer with 6 decimals\n",
    "n = 500000\n",
    "print('Forward sum:  %.6f' % forward(n))\n",
    "print('Backward sum: %.6f' % backward(n))"
   ]
  },
  {
   "cell_type": "markdown",
   "metadata": {},
   "source": [
    "## Precision limits and data types"
   ]
  },
  {
   "cell_type": "code",
   "execution_count": 5,
   "metadata": {
    "collapsed": false
   },
   "outputs": [
    {
     "name": "stdout",
     "output_type": "stream",
     "text": [
      "min:  -2147483648\n",
      "max:  2147483647\n"
     ]
    }
   ],
   "source": [
    "# 4 byte integer\n",
    "dtype = np.int32\n",
    "print('min: ', np.iinfo(dtype).min)\n",
    "print('max: ', np.iinfo(dtype).max)"
   ]
  },
  {
   "cell_type": "code",
   "execution_count": 6,
   "metadata": {
    "collapsed": false
   },
   "outputs": [
    {
     "name": "stdout",
     "output_type": "stream",
     "text": [
      "min:  -9223372036854775808\n",
      "max:  9223372036854775807\n"
     ]
    }
   ],
   "source": [
    "# 8 byte integer\n",
    "dtype = np.int64\n",
    "print('min: ', np.iinfo(dtype).min)\n",
    "print('max: ', np.iinfo(dtype).max)"
   ]
  },
  {
   "cell_type": "code",
   "execution_count": 7,
   "metadata": {
    "collapsed": false
   },
   "outputs": [
    {
     "name": "stdout",
     "output_type": "stream",
     "text": [
      "tiny:  1.17549e-38\n",
      "huge:  3.40282e+38\n",
      "eps:   1.19209e-07\n"
     ]
    }
   ],
   "source": [
    "# 4 byte float (single precision)\n",
    "dtype = np.float32\n",
    "print('tiny: ', np.finfo(dtype).tiny)\n",
    "print('huge: ', np.finfo(dtype).max)\n",
    "print('eps:  ', np.finfo(dtype).eps)"
   ]
  },
  {
   "cell_type": "code",
   "execution_count": 8,
   "metadata": {
    "collapsed": false
   },
   "outputs": [
    {
     "name": "stdout",
     "output_type": "stream",
     "text": [
      "tiny:  2.22507385851e-308\n",
      "huge:  1.79769313486e+308\n",
      "eps:   2.22044604925e-16\n"
     ]
    }
   ],
   "source": [
    "# 8 byte float (double precision)\n",
    "dtype = np.float64\n",
    "print('tiny: ', np.finfo(dtype).tiny)\n",
    "print('huge: ', np.finfo(dtype).max)\n",
    "print('eps:  ', np.finfo(dtype).eps)"
   ]
  },
  {
   "cell_type": "markdown",
   "metadata": {},
   "source": [
    "## Addition and subtraction"
   ]
  },
  {
   "cell_type": "code",
   "execution_count": 9,
   "metadata": {
    "collapsed": false
   },
   "outputs": [
    {
     "name": "stdout",
     "output_type": "stream",
     "text": [
      "1.0000000\n"
     ]
    }
   ],
   "source": [
    "# 1 + a = 1, if a < epsilon/2\n",
    "print('%.7f' % (np.float32(0.5e-7) + np.float32(1)))"
   ]
  },
  {
   "cell_type": "code",
   "execution_count": 10,
   "metadata": {
    "collapsed": false
   },
   "outputs": [
    {
     "name": "stdout",
     "output_type": "stream",
     "text": [
      "1.0000001\n",
      "1.0000000\n"
     ]
    }
   ],
   "source": [
    "# Order matters. By adding the two small numbers first, they are\n",
    "# large enough to be added to 1. Hence, floating point arithmetic on\n",
    "# a computer is not commutative and associative.\n",
    "print('%.7f' % (np.float32(0.5e-7) + np.float32(0.5e-7) + np.float32(1)))\n",
    "print('%.7f' % (np.float32(1) + np.float32(0.5e-7) + np.float32(0.5e-7)))"
   ]
  },
  {
   "cell_type": "markdown",
   "metadata": {},
   "source": [
    "## Example: exponential"
   ]
  },
  {
   "cell_type": "code",
   "execution_count": 11,
   "metadata": {
    "collapsed": false
   },
   "outputs": [],
   "source": [
    "# Implementing a function to calculate exp(x) as a series,\n",
    "# including only the first n terms\n",
    "def exp(x, n = 10):\n",
    "    result = np.float32(0)\n",
    "    for i in range(n):\n",
    "        result += np.float32(x**i / np.math.factorial(i))\n",
    "    return result\n"
   ]
  },
  {
   "cell_type": "code",
   "execution_count": 12,
   "metadata": {
    "collapsed": false
   },
   "outputs": [
    {
     "name": "stdout",
     "output_type": "stream",
     "text": [
      "exp(7.00)\n",
      "Series:  1090.363525\n",
      "Numpy:   1096.633158\n",
      "\n",
      "exp(-7.00)\n",
      "Series:  2.511951\n",
      "Numpy:   0.000912\n"
     ]
    }
   ],
   "source": [
    "# Comparing to exponential function from numpy, np.exp\n",
    "# Note the large difference in precision between positive and negative numbers\n",
    "x = 7\n",
    "print('exp(%.2f)' % x)\n",
    "print('Series: ', '%.6f' % exp(x, n = 15))\n",
    "print('Numpy:  ', '%.6f' % np.exp(x))\n",
    "print()\n",
    "x = -7\n",
    "print('exp(%.2f)' % x)\n",
    "print('Series: ', '%.6f' % exp(x, n = 15))\n",
    "print('Numpy:  ', '%.6f' % np.exp(x))"
   ]
  },
  {
   "cell_type": "code",
   "execution_count": 13,
   "metadata": {
    "collapsed": false
   },
   "outputs": [
    {
     "data": {
      "image/png": "[encoded data removed]",
      "text/plain": [
       "<matplotlib.figure.Figure at 0x1114728d0>"
      ]
     },
     "metadata": {},
     "output_type": "display_data"
    }
   ],
   "source": [
    "# Two plots to illustrate what's happening:\n",
    "\n",
    "# Make a figure with two subplots, side by side.\n",
    "fig, axes = plt.subplots(nrows = 1, ncols = 2, figsize = (16, 6))\n",
    "\n",
    "# When x is positive, we calculate a large number (exp(x)), by\n",
    "# adding large positive numbers, and the loss of precision is modest.\n",
    "x =  7\n",
    "N =  15\n",
    "\n",
    "# Calculate the terms\n",
    "ints  = np.arange(N)\n",
    "terms = np.zeros(N)\n",
    "for i in ints:\n",
    "    terms[i] = x**i / np.math.factorial(i)\n",
    "\n",
    "# Plot terms, set limits, add title and remove top and right axis\n",
    "axes[0].plot(ints, terms, marker = 'o', linewidth = 0.5, alpha = 0.5)\n",
    "axes[0].set_ylim((-200, 200))\n",
    "axes[0].set_title('Positive x')\n",
    "sns.despine()\n",
    "\n",
    "# When x is negative, we calculate a small number (exp(x)), by\n",
    "# adding alternating large positive and large negative numbers,\n",
    "# which leads to a catastrophic loss of precision.\n",
    "x =  -7\n",
    "N =  15\n",
    "\n",
    "# Calculate the terms\n",
    "ints  = np.arange(N)\n",
    "terms = np.zeros(N)\n",
    "for i in ints:\n",
    "    terms[i] = x**i / np.math.factorial(i)\n",
    "    \n",
    "# Plot terms, set limits, add title and remove top and right axis\n",
    "axes[1].plot(ints, terms, marker = 'o', linewidth = 0.5, alpha = 0.5)\n",
    "axes[1].set_ylim((-200, 200))\n",
    "axes[1].set_title('Negative x')\n",
    "sns.despine()"
   ]
  },
  {
   "cell_type": "markdown",
   "metadata": {},
   "source": [
    "## Examples: trigonometric functions"
   ]
  },
  {
   "cell_type": "code",
   "execution_count": 14,
   "metadata": {
    "collapsed": false
   },
   "outputs": [
    {
     "name": "stdout",
     "output_type": "stream",
     "text": [
      "-43.7114\n"
     ]
    }
   ],
   "source": [
    "# Result should be 0, because cos(pi/2) = 0\n",
    "x = np.float32(1e-9)\n",
    "print(np.cos(np.pi/2, dtype = np.float32) / x)"
   ]
  },
  {
   "cell_type": "code",
   "execution_count": 15,
   "metadata": {
    "collapsed": false
   },
   "outputs": [
    {
     "name": "stdout",
     "output_type": "stream",
     "text": [
      "0.0\n",
      "4.99999987369e-05\n"
     ]
    }
   ],
   "source": [
    "# The two results should be the same\n",
    "x = np.float32(1e-4)\n",
    "print((1 - np.cos(x)) / np.sin(x))\n",
    "print(np.sin(x) / (1 + np.cos(x)))"
   ]
  },
  {
   "cell_type": "code",
   "execution_count": 16,
   "metadata": {
    "collapsed": false
   },
   "outputs": [
    {
     "name": "stdout",
     "output_type": "stream",
     "text": [
      "4.99999997795e-05\n",
      "5.00000000417e-05\n"
     ]
    }
   ],
   "source": [
    "# In double precision, they are closer\n",
    "x = np.float64(1e-4)\n",
    "print((1 - np.cos(x)) / np.sin(x))\n",
    "print(np.sin(x) / (1 + np.cos(x)))"
   ]
  },
  {
   "cell_type": "code",
   "execution_count": null,
   "metadata": {
    "collapsed": true
   },
   "outputs": [],
   "source": []
  }
 ],
 "metadata": {
  "kernelspec": {
   "display_name": "Python 3",
   "language": "python",
   "name": "python3"
  },
  "language_info": {
   "codemirror_mode": {
    "name": "ipython",
    "version": 3
   },
   "file_extension": ".py",
   "mimetype": "text/x-python",
   "name": "python",
   "nbconvert_exporter": "python",
   "pygments_lexer": "ipython3",
   "version": "3.4.2"
  }
 },
 "nbformat": 4,
 "nbformat_minor": 0
}
