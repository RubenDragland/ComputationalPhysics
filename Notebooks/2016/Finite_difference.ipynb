{
 "cells": [
  {
   "cell_type": "code",
   "execution_count": null,
   "metadata": {
    "collapsed": false
   },
   "outputs": [],
   "source": [
    "# Import numpy and matplotlib, and use jupyter magic to\n",
    "# get plots directly in notebook\n",
    "import numpy as np\n",
    "from matplotlib import pyplot as plt\n",
    "%matplotlib inline\n",
    "\n",
    "# These two lines set nicer looking defaults for matplotlib\n",
    "import seaborn as sns\n",
    "sns.set(style='ticks', palette='Set1')"
   ]
  },
  {
   "cell_type": "code",
   "execution_count": null,
   "metadata": {
    "collapsed": true
   },
   "outputs": [],
   "source": [
    "def f(x):\n",
    "    return x**3"
   ]
  },
  {
   "cell_type": "code",
   "execution_count": null,
   "metadata": {
    "collapsed": true
   },
   "outputs": [],
   "source": [
    "# Common parameters\n",
    "x  = np.linspace(0, 1, 100)\n",
    "h  = 0.2\n",
    "x0 = 0.5"
   ]
  },
  {
   "cell_type": "code",
   "execution_count": null,
   "metadata": {
    "collapsed": false
   },
   "outputs": [],
   "source": [
    "# Calculate two points, draw line through points,\n",
    "# using forward finite difference\n",
    "\n",
    "# Calculating tangent, on the form y = a*x + b\n",
    "a = (f(x0+h) - f(x0))/h\n",
    "b = f(x0) - x0*a\n",
    "\n",
    "# plot f(x), and the approximation to the tangent\n",
    "plt.plot(x, f(x), label = 'f(x)')\n",
    "plt.plot(x, a*x + b, label = 'Slope at x0, forward difference')\n",
    "\n",
    "# Add markers at x0 and x0+h\n",
    "plt.scatter(x0, f(x0), marker = 'o', linewidth = 1, facecolor = 'none', edgecolor = 'k', s =100, label = 'x0')\n",
    "plt.scatter(x0+h, f(x0+h), marker = 'o', linewidth = 1, facecolor = 'none', edgecolor = 'g', s =100, label = 'x0+h')\n",
    "\n",
    "# Set plot limits, add legend and remove top and right axis\n",
    "plt.xlim((0,1))\n",
    "plt.ylim((-0.2, 1.2))\n",
    "plt.legend(loc = 'best')\n",
    "sns.despine()\n"
   ]
  },
  {
   "cell_type": "code",
   "execution_count": null,
   "metadata": {
    "collapsed": false
   },
   "outputs": [],
   "source": [
    "# Calculate two points, draw line throgh points,\n",
    "# using backward finite difference\n",
    "\n",
    "# Calculating tangent, on the form y = a*x + b\n",
    "a = (f(x0) - f(x0-h))/h\n",
    "b = f(x0) - x0*a\n",
    "\n",
    "# plot f(x), and the approximation to the tangent\n",
    "plt.plot(x, f(x), label = 'f(x)')\n",
    "plt.plot(x, a*x + b, label = 'Slope at x0, backward difference')\n",
    "\n",
    "# Add markers at x0 and x0+h\n",
    "plt.scatter(x0, f(x0), marker = 'o', linewidth = 1, facecolor = 'none', edgecolor = 'k', s =100, label = 'x0')\n",
    "plt.scatter(x0-h, f(x0-h), marker = 'o', linewidth = 1, facecolor = 'none', edgecolor = 'g', s =100, label = 'x0-h')\n",
    "\n",
    "# Set plot limits, add legend and remove top and right axis\n",
    "plt.xlim((0,1))\n",
    "plt.ylim((-0.2, 1.2))\n",
    "plt.legend(loc = 'best')\n",
    "sns.despine()\n"
   ]
  },
  {
   "cell_type": "code",
   "execution_count": null,
   "metadata": {
    "collapsed": false
   },
   "outputs": [],
   "source": [
    "# Calculate two points, draw approximation to tangent\n",
    "# through (x0, f(x0)), using central finite difference\n",
    "\n",
    "# Calculating tangent, on the form y = a*x + b\n",
    "a = (f(x0+h) - f(x0-h))/(2*h)\n",
    "b = f(x0) - x0*a\n",
    "\n",
    "# plot f(x), and the approximation to the tangent\n",
    "plt.plot(x, f(x), label = 'f(x)')\n",
    "plt.plot(x, a*x + b, label = 'Slope at x0, central difference')\n",
    "\n",
    "# Add markers at x0 and x0+h\n",
    "plt.scatter(x0-h/2, f(x0-h/2), marker = 'o', linewidth = 1, facecolor = 'none', edgecolor = 'k', s =100, label = 'x0-h/2')\n",
    "plt.scatter(x0+h/2, f(x0+h/2), marker = 'o', linewidth = 1, facecolor = 'none', edgecolor = 'g', s =100, label = 'x0+h/2')\n",
    "\n",
    "# Set plot limits, add legend and remove top and right axis\n",
    "plt.xlim((0,1))\n",
    "plt.ylim((-0.2, 1.2))\n",
    "plt.legend(loc = 'best')\n",
    "sns.despine()"
   ]
  },
  {
   "cell_type": "code",
   "execution_count": null,
   "metadata": {
    "collapsed": false
   },
   "outputs": [],
   "source": [
    "# Draw approximation to tangent through (x0, f(x0))\n",
    "# using backward, central and forward finite difference\n",
    "\n",
    "h = 0.2\n",
    "\n",
    "# Draw f(x)\n",
    "plt.plot(x, f(x))\n",
    "# Add marker at x0\n",
    "plt.scatter(x0, f(x0), marker = 'o', linewidth = 1, facecolor = 'none', edgecolor = 'k', s =100, label = 'x0')\n",
    "\n",
    "# Backward\n",
    "a = (f(x0) - f(x0-h))/h\n",
    "b = f(x0) - x0*a\n",
    "plt.plot(x, a*x + b, label = 'Slope at x0, backward difference: %.2f' % a)\n",
    "\n",
    "# Central\n",
    "a = (f(x0+h) - f(x0-h))/(2*h)\n",
    "b = f(x0) - x0*a\n",
    "plt.plot(x, a*x + b, label = 'Slope at x0, central difference: %.2f' % a)\n",
    "\n",
    "# Forward\n",
    "a = (f(x0+h) - f(x0))/h\n",
    "b = f(x0) - x0*a\n",
    "plt.plot(x, a*x + b, label = 'Slope at x0, forward difference: %.2f' % a)\n",
    "\n",
    "# Set plot limits, add legend and remove top and right axis\n",
    "plt.xlim((0,1))\n",
    "plt.ylim((-0.2, 1.2))\n",
    "plt.legend(loc = 'best')\n",
    "sns.despine()"
   ]
  },
  {
   "cell_type": "markdown",
   "metadata": {},
   "source": [
    "## Error"
   ]
  },
  {
   "cell_type": "code",
   "execution_count": null,
   "metadata": {
    "collapsed": false
   },
   "outputs": [],
   "source": [
    "# Calculate error, as a function of h, by comparing\n",
    "# to the true value of the derivative\n",
    "\n",
    "def get_line(x0, x1, y0, y1):\n",
    "    # Function to calculate a and b, for f(x) = ax + b,\n",
    "    # using two points, (x0, y0) and (x1, y1)\n",
    "    a = (y1 - y0)/(x1 - x0)\n",
    "    b = y0 - x0*a\n",
    "    return a, b\n",
    "\n",
    "# Example function\n",
    "def f(x):\n",
    "    return x**3\n",
    "\n",
    "# The actual derivative of x**3 at x=0.5\n",
    "# 3*0.5**2 = 0.75\n",
    "actual = 0.75\n",
    "\n",
    "# Calculate derivative for N different values\n",
    "# of h, evenly spaced from 0.001 to 0.05\n",
    "N  = 100\n",
    "x0 = 0.5\n",
    "h_values = np.linspace(0.001, 0.5, N)\n",
    "# Arrays to store the errors as function of h,\n",
    "# for plotting\n",
    "backward_error = np.zeros(N)\n",
    "central_error  = np.zeros(N)\n",
    "forward_error  = np.zeros(N)\n",
    "\n",
    "# Calculate error for each value of h\n",
    "for i, h in enumerate(h_values):\n",
    "    # Backward\n",
    "    a, b = get_line(x0-h, x0, f(x0-h), f(x0))\n",
    "    backward_error[i] = actual - a\n",
    "    # Central\n",
    "    a, b = get_line(x0-h, x0+h, f(x0-h), f(x0+h))\n",
    "    central_error[i] = actual - a\n",
    "    # Forward\n",
    "    a, b = get_line(x0, x0+h, f(x0), f(x0+h))\n",
    "    forward_error[i] = actual - a\n",
    "    \n",
    "# Plot errors, add labels and legends, remove top and right axis\n",
    "plt.plot(h_values, backward_error, label = 'Backward')\n",
    "plt.plot(h_values, central_error, label = 'Central')\n",
    "plt.plot(h_values, forward_error, label = 'Forward')\n",
    "plt.xlabel('h')\n",
    "plt.ylabel('Error')\n",
    "plt.legend(loc = 'best')\n",
    "sns.despine()"
   ]
  },
  {
   "cell_type": "code",
   "execution_count": null,
   "metadata": {
    "collapsed": true
   },
   "outputs": [],
   "source": []
  }
 ],
 "metadata": {
  "kernelspec": {
   "display_name": "Python 3",
   "language": "python",
   "name": "python3"
  },
  "language_info": {
   "codemirror_mode": {
    "name": "ipython",
    "version": 3
   },
   "file_extension": ".py",
   "mimetype": "text/x-python",
   "name": "python",
   "nbconvert_exporter": "python",
   "pygments_lexer": "ipython3",
   "version": "3.4.2"
  }
 },
 "nbformat": 4,
 "nbformat_minor": 0
}
